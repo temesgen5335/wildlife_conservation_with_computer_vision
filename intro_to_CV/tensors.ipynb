{
 "cells": [
  {
   "cell_type": "markdown",
   "metadata": {},
   "source": [
    "# Working with Tensors in PyTorch\n"
   ]
  },
  {
   "cell_type": "code",
   "execution_count": 5,
   "metadata": {},
   "outputs": [],
   "source": [
    "import os\n",
    "import sys\n",
    "\n",
    "import matplotlib\n",
    "import matplotlib.pyplot as plt\n",
    "import pandas as pd\n",
    "import PIL\n",
    "import torch\n",
    "import torchvision\n",
    "from PIL import Image\n",
    "from torchvision import transforms"
   ]
  },
  {
   "cell_type": "code",
   "execution_count": 6,
   "metadata": {},
   "outputs": [
    {
     "name": "stdout",
     "output_type": "stream",
     "text": [
      "Platform: win32\n",
      "Python version: 3.10.11 (tags/v3.10.11:7d4cc5a, Apr  5 2023, 00:38:17) [MSC v.1929 64 bit (AMD64)]\n",
      "---\n",
      "matplotlib version: 3.10.0\n",
      "pandas version: 2.2.3\n",
      "PIL version: 11.0.0\n",
      "torch version: 2.5.1+cpu\n",
      "torchvision version: 0.20.1+cpu\n"
     ]
    }
   ],
   "source": [
    "print(\"Platform:\", sys.platform)\n",
    "print(\"Python version:\", sys.version)\n",
    "print(\"---\")\n",
    "print(\"matplotlib version:\", matplotlib.__version__)\n",
    "print(\"pandas version:\", pd.__version__)\n",
    "print(\"PIL version:\", PIL.__version__)\n",
    "print(\"torch version:\", torch.__version__)\n",
    "print(\"torchvision version:\", torchvision.__version__)"
   ]
  },
  {
   "cell_type": "code",
   "execution_count": null,
   "metadata": {},
   "outputs": [],
   "source": []
  },
  {
   "cell_type": "code",
   "execution_count": 7,
   "metadata": {},
   "outputs": [
    {
     "name": "stdout",
     "output_type": "stream",
     "text": [
      "my_tensor class: <class 'torch.Tensor'>\n",
      "tensor([[ 1.,  2.,  3.],\n",
      "        [ 4.,  5.,  6.],\n",
      "        [ 7.,  8.,  9.],\n",
      "        [10., 11., 12.]])\n"
     ]
    }
   ],
   "source": [
    "# converting a list into a tensor\n",
    "my_values = [[1, 2, 3], [4, 5, 6], [7, 8, 9], [10, 11, 12]]\n",
    "my_tensor = torch.Tensor(my_values)\n",
    "\n",
    "print(\"my_tensor class:\", type(my_tensor))\n",
    "print(my_tensor)"
   ]
  },
  {
   "cell_type": "code",
   "execution_count": 8,
   "metadata": {},
   "outputs": [
    {
     "name": "stdout",
     "output_type": "stream",
     "text": [
      "my_tensor shape: torch.Size([4, 3])\n",
      "my_tensor dtype: torch.float32\n"
     ]
    }
   ],
   "source": [
    "print(\"my_tensor shape:\",my_tensor.shape) \n",
    "\n",
    "print(\"my_tensor dtype:\", my_tensor.dtype)"
   ]
  },
  {
   "cell_type": "code",
   "execution_count": 9,
   "metadata": {},
   "outputs": [
    {
     "name": "stdout",
     "output_type": "stream",
     "text": [
      "my_tensor device: cpu\n"
     ]
    }
   ],
   "source": [
    "# .device attribute, which specifies the hardware on which it's stored. By default, tensors are created on the computer's CPU.\n",
    "print(\"my_tensor device:\", my_tensor.device)"
   ]
  },
  {
   "cell_type": "code",
   "execution_count": 10,
   "metadata": {},
   "outputs": [
    {
     "name": "stdout",
     "output_type": "stream",
     "text": [
      "cuda GPUs available: False\n",
      "mps GPUs available: False\n"
     ]
    }
   ],
   "source": [
    "# Check if GPUs available via `cuda`\n",
    "cuda_gpus_available = torch.cuda.is_available()\n",
    "\n",
    "# Check if GPUs available via `mps`\n",
    "mps_gpus_available = torch.backends.mps.is_available()\n",
    "\n",
    "print(\"cuda GPUs available:\", cuda_gpus_available)\n",
    "print(\"mps GPUs available:\", mps_gpus_available)"
   ]
  },
  {
   "cell_type": "code",
   "execution_count": null,
   "metadata": {},
   "outputs": [],
   "source": [
    "# changing the device the tensor is stored on\n",
    "my_tensor = my_tensor.to(\"cuda\")\n",
    "\n",
    "print(\"my_tensor device:\", my_tensor.device)"
   ]
  },
  {
   "cell_type": "markdown",
   "metadata": {},
   "source": [
    "### Tensor slicing"
   ]
  },
  {
   "cell_type": "code",
   "execution_count": 11,
   "metadata": {},
   "outputs": [
    {
     "name": "stdout",
     "output_type": "stream",
     "text": [
      "left_tensor class: <class 'torch.Tensor'>\n",
      "left_tensor shape: torch.Size([2, 3])\n",
      "left_tensor data type: torch.float32\n",
      "left_tensor device: cpu\n",
      "tensor([[1., 2., 3.],\n",
      "        [4., 5., 6.]])\n",
      "\n",
      "right_tensor class: <class 'torch.Tensor'>\n",
      "right_tensor shape: torch.Size([2, 3])\n",
      "right_tensor data type: torch.float32\n",
      "right_tensor device: cpu\n",
      "tensor([[ 7.,  8.,  9.],\n",
      "        [10., 11., 12.]])\n"
     ]
    }
   ],
   "source": [
    "left_tensor = my_tensor[:2,:]\n",
    "right_tensor = my_tensor[2:, :]\n",
    "\n",
    "print(\"left_tensor class:\", type(left_tensor))\n",
    "print(\"left_tensor shape:\", left_tensor.shape)\n",
    "print(\"left_tensor data type:\", left_tensor.dtype)\n",
    "print(\"left_tensor device:\", left_tensor.device)\n",
    "print(left_tensor)\n",
    "print()\n",
    "print(\"right_tensor class:\", type(right_tensor))\n",
    "print(\"right_tensor shape:\", right_tensor.shape)\n",
    "print(\"right_tensor data type:\", right_tensor.dtype)\n",
    "print(\"right_tensor device:\", right_tensor.device)\n",
    "print(right_tensor)"
   ]
  },
  {
   "cell_type": "markdown",
   "metadata": {},
   "source": [
    "### Tensor MATH"
   ]
  },
  {
   "cell_type": "code",
   "execution_count": 12,
   "metadata": {},
   "outputs": [
    {
     "name": "stdout",
     "output_type": "stream",
     "text": [
      "summed_tensor_operator class: <class 'torch.Tensor'>\n",
      "summed_tensor_operator shape: torch.Size([2, 3])\n",
      "summed_tensor_operator data type: torch.float32\n",
      "summed_tensor_operator device: cpu\n",
      "tensor([[ 8., 10., 12.],\n",
      "        [14., 16., 18.]])\n",
      "\n",
      "summed_tensor_method class: <class 'torch.Tensor'>\n",
      "summed_tensor_method shape: torch.Size([2, 3])\n",
      "summed_tensor_method data type: torch.float32\n",
      "summed_tensor_method device: cpu\n",
      "tensor([[ 8., 10., 12.],\n",
      "        [14., 16., 18.]])\n"
     ]
    }
   ],
   "source": [
    "summed_tensor_operator = left_tensor + right_tensor\n",
    "summed_tensor_method = left_tensor.add(right_tensor)\n",
    "\n",
    "print(\"summed_tensor_operator class:\", type(summed_tensor_operator))\n",
    "print(\"summed_tensor_operator shape:\", summed_tensor_operator.shape)\n",
    "print(\"summed_tensor_operator data type:\", summed_tensor_operator.dtype)\n",
    "print(\"summed_tensor_operator device:\", summed_tensor_operator.device)\n",
    "print(summed_tensor_operator)\n",
    "print()\n",
    "print(\"summed_tensor_method class:\", type(summed_tensor_method))\n",
    "print(\"summed_tensor_method shape:\", summed_tensor_method.shape)\n",
    "print(\"summed_tensor_method data type:\", summed_tensor_method.dtype)\n",
    "print(\"summed_tensor_method device:\", summed_tensor_method.device)\n",
    "print(summed_tensor_method)"
   ]
  },
  {
   "cell_type": "code",
   "execution_count": 13,
   "metadata": {},
   "outputs": [
    {
     "name": "stdout",
     "output_type": "stream",
     "text": [
      "ew_tensor_operator class: <class 'torch.Tensor'>\n",
      "ew_tensor_operator shape: torch.Size([2, 3])\n",
      "ew_tensor_operator data type: torch.float32\n",
      "ew_tensor_operator device: cpu\n",
      "tensor([[ 7., 16., 27.],\n",
      "        [40., 55., 72.]])\n",
      "\n",
      "ew_tensor_method class: <class 'torch.Tensor'>\n",
      "ew_tensor_method shape: torch.Size([2, 3])\n",
      "ew_tensor_method data type: torch.float32\n",
      "ew_tensor_method device: cpu\n",
      "tensor([[ 7., 16., 27.],\n",
      "        [40., 55., 72.]])\n"
     ]
    }
   ],
   "source": [
    "ew_tensor_operator = left_tensor * right_tensor\n",
    "ew_tensor_method = left_tensor.mul(right_tensor)\n",
    "\n",
    "print(\"ew_tensor_operator class:\", type(ew_tensor_operator))\n",
    "print(\"ew_tensor_operator shape:\", ew_tensor_operator.shape)\n",
    "print(\"ew_tensor_operator data type:\", ew_tensor_operator.dtype)\n",
    "print(\"ew_tensor_operator device:\", ew_tensor_operator.device)\n",
    "print(ew_tensor_operator)\n",
    "print()\n",
    "print(\"ew_tensor_method class:\", type(ew_tensor_method))\n",
    "print(\"ew_tensor_method shape:\", ew_tensor_method.shape)\n",
    "print(\"ew_tensor_method data type:\", ew_tensor_method.dtype)\n",
    "print(\"ew_tensor_method device:\", ew_tensor_method.device)\n",
    "print(ew_tensor_method)"
   ]
  },
  {
   "cell_type": "markdown",
   "metadata": {},
   "source": [
    "matrix multiplication"
   ]
  },
  {
   "cell_type": "code",
   "execution_count": 14,
   "metadata": {},
   "outputs": [
    {
     "name": "stdout",
     "output_type": "stream",
     "text": [
      "new_left_tensor class: <class 'torch.Tensor'>\n",
      "new_left_tensor shape: torch.Size([2, 2])\n",
      "new_left_tensor data type: torch.float32\n",
      "new_left_tensor device: cpu\n",
      "tensor([[2., 5.],\n",
      "        [7., 3.]])\n",
      "\n",
      "new_right_tensor class: <class 'torch.Tensor'>\n",
      "new_right_tensor shape: torch.Size([2, 1])\n",
      "new_right_tensor data type: torch.float32\n",
      "new_right_tensor device: cpu\n",
      "tensor([[8.],\n",
      "        [9.]])\n"
     ]
    }
   ],
   "source": [
    "new_left_tensor = torch.Tensor([[2, 5], [7, 3]])\n",
    "new_right_tensor = torch.Tensor([[8], [9]])\n",
    "\n",
    "print(\"new_left_tensor class:\", type(new_left_tensor))\n",
    "print(\"new_left_tensor shape:\", new_left_tensor.shape)\n",
    "print(\"new_left_tensor data type:\", new_left_tensor.dtype)\n",
    "print(\"new_left_tensor device:\", new_left_tensor.device)\n",
    "print(new_left_tensor)\n",
    "print()\n",
    "print(\"new_right_tensor class:\", type(new_right_tensor))\n",
    "print(\"new_right_tensor shape:\", new_right_tensor.shape)\n",
    "print(\"new_right_tensor data type:\", new_right_tensor.dtype)\n",
    "print(\"new_right_tensor device:\", new_right_tensor.device)\n",
    "print(new_right_tensor)"
   ]
  },
  {
   "cell_type": "code",
   "execution_count": 15,
   "metadata": {},
   "outputs": [
    {
     "name": "stdout",
     "output_type": "stream",
     "text": [
      "mm_tensor_operator class: <class 'torch.Tensor'>\n",
      "mm_tensor_operator shape: torch.Size([2, 1])\n",
      "mm_tensor_operator data type: torch.float32\n",
      "mm_tensor_operator device: cpu\n",
      "tensor([[61.],\n",
      "        [83.]])\n",
      "\n",
      "mm_tensor_method class: <class 'torch.Tensor'>\n",
      "mm_tensor_method shape: torch.Size([2, 1])\n",
      "mm_tensor_method data type: torch.float32\n",
      "mm_tensor_method device: cpu\n",
      "tensor([[61.],\n",
      "        [83.]])\n"
     ]
    }
   ],
   "source": [
    "mm_tensor_operator = new_left_tensor @ new_right_tensor\n",
    "mm_tensor_method = new_left_tensor.matmul(new_right_tensor)\n",
    "\n",
    "print(\"mm_tensor_operator class:\", type(mm_tensor_operator))\n",
    "print(\"mm_tensor_operator shape:\", mm_tensor_operator.shape)\n",
    "print(\"mm_tensor_operator data type:\", mm_tensor_operator.dtype)\n",
    "print(\"mm_tensor_operator device:\", mm_tensor_operator.device)\n",
    "print(mm_tensor_operator)\n",
    "print()\n",
    "print(\"mm_tensor_method class:\", type(mm_tensor_method))\n",
    "print(\"mm_tensor_method shape:\", mm_tensor_method.shape)\n",
    "print(\"mm_tensor_method data type:\", mm_tensor_method.dtype)\n",
    "print(\"mm_tensor_method device:\", mm_tensor_method.device)\n",
    "print(mm_tensor_method)"
   ]
  },
  {
   "cell_type": "code",
   "execution_count": null,
   "metadata": {},
   "outputs": [],
   "source": []
  },
  {
   "cell_type": "markdown",
   "metadata": {},
   "source": [
    "Tensor aggrigations"
   ]
  },
  {
   "cell_type": "code",
   "execution_count": 16,
   "metadata": {},
   "outputs": [
    {
     "name": "stdout",
     "output_type": "stream",
     "text": [
      "my_tensor_mean class: <class 'torch.Tensor'>\n",
      "my_tensor_mean shape: torch.Size([])\n",
      "my_tensor_mean data type: torch.float32\n",
      "my_tensor_mean device: cpu\n",
      "my_tensor mean: tensor(6.5000)\n"
     ]
    }
   ],
   "source": [
    "my_tensor_mean = my_tensor.mean()\n",
    "\n",
    "print(\"my_tensor_mean class:\", type(my_tensor_mean))\n",
    "print(\"my_tensor_mean shape:\", my_tensor_mean.shape)\n",
    "print(\"my_tensor_mean data type:\", my_tensor_mean.dtype)\n",
    "print(\"my_tensor_mean device:\", my_tensor_mean.device)\n",
    "print(\"my_tensor mean:\", my_tensor_mean)"
   ]
  },
  {
   "cell_type": "code",
   "execution_count": 17,
   "metadata": {},
   "outputs": [
    {
     "name": "stdout",
     "output_type": "stream",
     "text": [
      "my_tensor_column_means class: <class 'torch.Tensor'>\n",
      "my_tensor_column_means shape: torch.Size([3])\n",
      "my_tensor_column_means data type: torch.float32\n",
      "my_tensor_column_means device: cpu\n",
      "my_tensor column means: tensor([5.5000, 6.5000, 7.5000])\n"
     ]
    }
   ],
   "source": [
    "# specifying the dimention to agregate\n",
    "my_tensor_column_means = my_tensor.mean(dim=[0])\n",
    "\n",
    "print(\"my_tensor_column_means class:\", type(my_tensor_column_means))\n",
    "print(\"my_tensor_column_means shape:\", my_tensor_column_means.shape)\n",
    "print(\"my_tensor_column_means data type:\", my_tensor_column_means.dtype)\n",
    "print(\"my_tensor_column_means device:\", my_tensor_column_means.device)\n",
    "print(\"my_tensor column means:\", my_tensor_column_means)"
   ]
  }
 ],
 "metadata": {
  "kernelspec": {
   "display_name": ".venv",
   "language": "python",
   "name": "python3"
  },
  "language_info": {
   "codemirror_mode": {
    "name": "ipython",
    "version": 3
   },
   "file_extension": ".py",
   "mimetype": "text/x-python",
   "name": "python",
   "nbconvert_exporter": "python",
   "pygments_lexer": "ipython3",
   "version": "3.10.11"
  }
 },
 "nbformat": 4,
 "nbformat_minor": 2
}
